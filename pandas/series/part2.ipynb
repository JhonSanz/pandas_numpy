{
 "cells": [
  {
   "cell_type": "markdown",
   "metadata": {},
   "source": [
    "### Querying Series"
   ]
  },
  {
   "cell_type": "code",
   "execution_count": 30,
   "metadata": {},
   "outputs": [
    {
     "data": {
      "text/plain": [
       "Alice        Physics\n",
       "Codeine    Chemistry\n",
       "Molly        English\n",
       "Kate         History\n",
       "dtype: object"
      ]
     },
     "execution_count": 30,
     "metadata": {},
     "output_type": "execute_result"
    }
   ],
   "source": [
    "import pandas as pd\n",
    "import numpy as np\n",
    "students_classes = {\n",
    "    'Alice': 'Physics',\n",
    "    'Codeine': 'Chemistry',\n",
    "    'Molly': 'English',\n",
    "    'Kate': 'History'\n",
    "}\n",
    "s = pd.Series(students_classes)\n",
    "s\n"
   ]
  },
  {
   "cell_type": "code",
   "execution_count": 31,
   "metadata": {},
   "outputs": [
    {
     "data": {
      "text/plain": [
       "'English'"
      ]
     },
     "execution_count": 31,
     "metadata": {},
     "output_type": "execute_result"
    }
   ],
   "source": [
    "# To querying by numeric location use .iloc\n",
    "s.iloc[2]\n",
    "# Notice that the result given is from dict object values.\n"
   ]
  },
  {
   "cell_type": "code",
   "execution_count": 32,
   "metadata": {},
   "outputs": [
    {
     "data": {
      "text/plain": [
       "'English'"
      ]
     },
     "execution_count": 32,
     "metadata": {},
     "output_type": "execute_result"
    }
   ],
   "source": [
    "# And here using labels you can get any record like this, using .loc\n",
    "s.loc['Molly']\n"
   ]
  },
  {
   "cell_type": "markdown",
   "metadata": {},
   "source": [
    "Pandas tries to make our code a bit more readable and provides a sort of smart syntax using the indexing operator directly on the series itself. \n",
    "\n",
    "For instance, if you pass in an integer parameter, the operator will behave as it you want to query via the **.iloc attribute**."
   ]
  },
  {
   "cell_type": "code",
   "execution_count": 33,
   "metadata": {},
   "outputs": [
    {
     "name": "stdout",
     "output_type": "stream",
     "text": [
      "English\n",
      "English\n",
      "History\n",
      "History\n"
     ]
    }
   ],
   "source": [
    "print(s.iloc[2])  # .loc is not a method, but an attribute\n",
    "print(s[2])  # and pandas guesses that you want to pass 2 as index\n",
    "# Similary with .loc\n",
    "print(s.loc['Kate'])\n",
    "print(s['Kate'])\n"
   ]
  },
  {
   "cell_type": "markdown",
   "metadata": {},
   "source": [
    "**But be careful with that, just use .loc and .iloc to avoid unexpected behaviours.**"
   ]
  },
  {
   "cell_type": "markdown",
   "metadata": {},
   "source": [
    "---"
   ]
  },
  {
   "cell_type": "code",
   "execution_count": 34,
   "metadata": {},
   "outputs": [
    {
     "name": "stdout",
     "output_type": "stream",
     "text": [
      "499.5\n"
     ]
    }
   ],
   "source": [
    "# Now let's compute an averrage\n",
    "# You can compute it by several ways. One of those is an iterative way.\n",
    "numbers = pd.Series(np.arange(0, 1000, 1))\n",
    "\n",
    "total = 0\n",
    "for value in numbers:\n",
    "    total += value\n",
    "print(total / len(numbers))\n"
   ]
  },
  {
   "cell_type": "code",
   "execution_count": 35,
   "metadata": {},
   "outputs": [
    {
     "data": {
      "text/plain": [
       "499.5"
      ]
     },
     "execution_count": 35,
     "metadata": {},
     "output_type": "execute_result"
    }
   ],
   "source": [
    "# Now use numpy to take advantage of parallel programming\n",
    "# and make cleanest code\n",
    "np.sum(numbers) / len(numbers)\n"
   ]
  },
  {
   "cell_type": "code",
   "execution_count": 37,
   "metadata": {},
   "outputs": [
    {
     "data": {
      "text/plain": [
       "0    4\n",
       "1    5\n",
       "2    6\n",
       "3    7\n",
       "4    8\n",
       "dtype: int64"
      ]
     },
     "execution_count": 37,
     "metadata": {},
     "output_type": "execute_result"
    }
   ],
   "source": [
    "# Here is another example\n",
    "# Let's sum 2 to all values in numbers Series\n",
    "for label, value in numbers.iteritems():\n",
    "    numbers.at[label] = value + 2\n",
    "numbers.head(5)\n"
   ]
  },
  {
   "cell_type": "code",
   "execution_count": 39,
   "metadata": {},
   "outputs": [
    {
     "data": {
      "text/plain": [
       "0        0\n",
       "1        1\n",
       "2        2\n",
       "3        3\n",
       "4        4\n",
       "      ... \n",
       "995    995\n",
       "996    996\n",
       "997    997\n",
       "998    998\n",
       "999    999\n",
       "Length: 1000, dtype: int64"
      ]
     },
     "execution_count": 39,
     "metadata": {},
     "output_type": "execute_result"
    }
   ],
   "source": [
    "# But here Series can perform such operation in parallel like this\n",
    "numbers -= 2\n",
    "numbers\n"
   ]
  },
  {
   "cell_type": "markdown",
   "metadata": {},
   "source": [
    "---"
   ]
  },
  {
   "cell_type": "code",
   "execution_count": 41,
   "metadata": {},
   "outputs": [
    {
     "data": {
      "text/plain": [
       "Alice        Physics\n",
       "Codeine    Chemistry\n",
       "Molly        English\n",
       "dtype: object"
      ]
     },
     "execution_count": 41,
     "metadata": {},
     "output_type": "execute_result"
    }
   ],
   "source": [
    "# Finally, we are going to check an example where indexes are not unique\n",
    "students = {\n",
    "    'Alice': 'Physics',\n",
    "    'Codeine': 'Chemistry',\n",
    "    'Molly': 'English'\n",
    "}\n",
    "s = pd.Series(students)\n",
    "s\n"
   ]
  },
  {
   "cell_type": "code",
   "execution_count": 43,
   "metadata": {},
   "outputs": [
    {
     "data": {
      "text/plain": [
       "Kelly    Philosophy\n",
       "Kelly          Arts\n",
       "Kelly          Math\n",
       "dtype: object"
      ]
     },
     "execution_count": 43,
     "metadata": {},
     "output_type": "execute_result"
    }
   ],
   "source": [
    "kelly_classes = pd.Series(['Philosophy', 'Arts', 'Math'], index=['Kelly']*3)\n",
    "kelly_classes\n"
   ]
  },
  {
   "cell_type": "code",
   "execution_count": 48,
   "metadata": {},
   "outputs": [
    {
     "name": "stdout",
     "output_type": "stream",
     "text": [
      "Alice        Physics\n",
      "Codeine    Chemistry\n",
      "Molly        English\n",
      "dtype: object\n",
      "\n",
      "\n",
      "Alice         Physics\n",
      "Codeine     Chemistry\n",
      "Molly         English\n",
      "Kelly      Philosophy\n",
      "Kelly            Arts\n",
      "Kelly            Math\n",
      "dtype: object\n",
      "\n",
      "\n",
      "Kelly    Philosophy\n",
      "Kelly          Arts\n",
      "Kelly          Math\n",
      "dtype: object\n"
     ]
    }
   ],
   "source": [
    "# And now append kelly's array to students_classes' array\n",
    "all_students_classes = s.append(kelly_classes)\n",
    "# Original Series object was not affected with .append method\n",
    "print(s)\n",
    "print(\"\\n\")\n",
    "print(all_students_classes)\n",
    "print(\"\\n\")\n",
    "# Accessing with .loc we found that for repeated indexes we got a Series object\n",
    "print(all_students_classes.loc[\"Kelly\"])"
   ]
  }
 ],
 "metadata": {
  "interpreter": {
   "hash": "f5fb0dd6b25f84ac009249f68d17908628f4bdb1c51d57933f99b2a63e9e59bb"
  },
  "kernelspec": {
   "display_name": "Python 3.9.5 64-bit ('env': venv)",
   "language": "python",
   "name": "python3"
  },
  "language_info": {
   "codemirror_mode": {
    "name": "ipython",
    "version": 3
   },
   "file_extension": ".py",
   "mimetype": "text/x-python",
   "name": "python",
   "nbconvert_exporter": "python",
   "pygments_lexer": "ipython3",
   "version": "3.9.5"
  },
  "orig_nbformat": 4
 },
 "nbformat": 4,
 "nbformat_minor": 2
}
