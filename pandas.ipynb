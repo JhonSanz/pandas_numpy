{
 "cells": [
  {
   "cell_type": "markdown",
   "metadata": {},
   "source": [
    "# Pandas learning"
   ]
  },
  {
   "cell_type": "markdown",
   "metadata": {},
   "source": [
    "---"
   ]
  },
  {
   "cell_type": "code",
   "execution_count": 68,
   "metadata": {},
   "outputs": [],
   "source": [
    "import matplotlib.pyplot as plt\n",
    "import pandas as pd"
   ]
  },
  {
   "cell_type": "markdown",
   "metadata": {
    "tags": []
   },
   "source": [
    "##### First learn how to **create** simple dataframes from elements' list and **save** it as a csv file."
   ]
  },
  {
   "cell_type": "code",
   "execution_count": 69,
   "metadata": {},
   "outputs": [
    {
     "name": "stdout",
     "output_type": "stream",
     "text": [
      "baby_dataset:  [('Bob', 968), ('Jessica', 155), ('Mary', 77), ('John', 578), ('Mel', 973)]\n"
     ]
    }
   ],
   "source": [
    "names = ['Bob', 'Jessica', 'Mary', 'John', 'Mel']\n",
    "births = [968, 155, 77, 578, 973]\n",
    "baby_dataset = list(zip(names, births))\n",
    "print('baby_dataset: ', baby_dataset)"
   ]
  },
  {
   "cell_type": "code",
   "execution_count": 70,
   "metadata": {},
   "outputs": [
    {
     "name": "stdout",
     "output_type": "stream",
     "text": [
      "     Names  Births\n",
      "0      Bob     968\n",
      "1  Jessica     155\n",
      "2     Mary      77\n",
      "3     John     578\n",
      "4      Mel     973\n"
     ]
    }
   ],
   "source": [
    "df = pd.DataFrame(data=baby_dataset, columns=['Names', 'Births'])\n",
    "print(df)"
   ]
  },
  {
   "cell_type": "code",
   "execution_count": 71,
   "metadata": {},
   "outputs": [],
   "source": [
    "df.to_csv('births1880.csv', index=False, header=False)\n",
    "# so easy :D"
   ]
  },
  {
   "cell_type": "markdown",
   "metadata": {},
   "source": [
    "---"
   ]
  },
  {
   "cell_type": "markdown",
   "metadata": {},
   "source": [
    "##### Now take a differente dataframe and **read** it from csv. We can do some interesting things."
   ]
  },
  {
   "cell_type": "code",
   "execution_count": 72,
   "metadata": {},
   "outputs": [
    {
     "name": "stdout",
     "output_type": "stream",
     "text": [
      "       #                   Name   Type 1  Type 2  HP  Attack  Defense  \\\n",
      "0      1              Bulbasaur    Grass  Poison  45      49       49   \n",
      "1      2                Ivysaur    Grass  Poison  60      62       63   \n",
      "2      3               Venusaur    Grass  Poison  80      82       83   \n",
      "3      3  VenusaurMega Venusaur    Grass  Poison  80     100      123   \n",
      "4      4             Charmander     Fire     NaN  39      52       43   \n",
      "..   ...                    ...      ...     ...  ..     ...      ...   \n",
      "795  719                Diancie     Rock   Fairy  50     100      150   \n",
      "796  719    DiancieMega Diancie     Rock   Fairy  50     160      110   \n",
      "797  720    HoopaHoopa Confined  Psychic   Ghost  80     110       60   \n",
      "798  720     HoopaHoopa Unbound  Psychic    Dark  80     160       60   \n",
      "799  721              Volcanion     Fire   Water  80     110      120   \n",
      "\n",
      "     Sp. Atk  Sp. Def  Speed  Generation  Legendary  \n",
      "0         65       65     45           1      False  \n",
      "1         80       80     60           1      False  \n",
      "2        100      100     80           1      False  \n",
      "3        122      120     80           1      False  \n",
      "4         60       50     65           1      False  \n",
      "..       ...      ...    ...         ...        ...  \n",
      "795      100      150     50           6       True  \n",
      "796      160      110    110           6       True  \n",
      "797      150      130     70           6       True  \n",
      "798      170      130     80           6       True  \n",
      "799      130       90     70           6       True  \n",
      "\n",
      "[800 rows x 12 columns]\n"
     ]
    },
    {
     "data": {
      "text/plain": [
       "\"\\n    Excel format...\\n    pd.read_excel('pokemon_data.xlsx')\\n\\n    Or a file with data separated with different characters e.g. \\t\\n    pd.read_csv('pokemon_data.csv', delimiter='\\t') \\n\""
      ]
     },
     "execution_count": 72,
     "metadata": {},
     "output_type": "execute_result"
    }
   ],
   "source": [
    "df = pd.read_csv('pokemon_data.csv')\n",
    "print(df)\n",
    "\n",
    "# But we have different options\n",
    "\"\"\"\n",
    "    Excel format...\n",
    "    pd.read_excel('pokemon_data.xlsx')\n",
    "\n",
    "    Or a file with data separated with different characters e.g. \\t\n",
    "    pd.read_csv('pokemon_data.csv', delimiter='\\t') \n",
    "\"\"\""
   ]
  },
  {
   "cell_type": "markdown",
   "id": "f1d7d8f0",
   "metadata": {},
   "source": [
    "##### Use **.head()** and **.tail()** functions.\n",
    "- https://pandas.pydata.org/docs/reference/api/pandas.DataFrame.head.html\n",
    "- https://pandas.pydata.org/docs/reference/api/pandas.DataFrame.tail.html"
   ]
  },
  {
   "cell_type": "code",
   "execution_count": 73,
   "metadata": {},
   "outputs": [
    {
     "name": "stdout",
     "output_type": "stream",
     "text": [
      "---------- head --------------\n",
      "   #       Name Type 1  Type 2  HP  Attack  Defense  Sp. Atk  Sp. Def  Speed  \\\n",
      "0  1  Bulbasaur  Grass  Poison  45      49       49       65       65     45   \n",
      "1  2    Ivysaur  Grass  Poison  60      62       63       80       80     60   \n",
      "\n",
      "   Generation  Legendary  \n",
      "0           1      False  \n",
      "1           1      False  \n",
      "\n",
      "---------- tail --------------\n",
      "       #                Name   Type 1 Type 2  HP  Attack  Defense  Sp. Atk  \\\n",
      "798  720  HoopaHoopa Unbound  Psychic   Dark  80     160       60      170   \n",
      "799  721           Volcanion     Fire  Water  80     110      120      130   \n",
      "\n",
      "     Sp. Def  Speed  Generation  Legendary  \n",
      "798      130     80           6       True  \n",
      "799       90     70           6       True  \n"
     ]
    }
   ],
   "source": [
    "# Or take the n top elements...\n",
    "print('---------- head --------------')\n",
    "print(df.head(2))\n",
    "\n",
    "# Or the k bottom elements too.\n",
    "print('\\n---------- tail --------------')\n",
    "print(df.tail(2))"
   ]
  },
  {
   "cell_type": "markdown",
   "metadata": {},
   "source": [
    "---"
   ]
  },
  {
   "cell_type": "markdown",
   "metadata": {},
   "source": [
    "# Reading data in DataFrames."
   ]
  },
  {
   "cell_type": "code",
   "execution_count": 74,
   "metadata": {},
   "outputs": [
    {
     "name": "stdout",
     "output_type": "stream",
     "text": [
      "Index(['#', 'Name', 'Type 1', 'Type 2', 'HP', 'Attack', 'Defense', 'Sp. Atk',\n",
      "       'Sp. Def', 'Speed', 'Generation', 'Legendary'],\n",
      "      dtype='object') \n",
      " type:  <class 'pandas.core.indexes.base.Index'>\n"
     ]
    }
   ],
   "source": [
    "print(df.columns, '\\n type: ', type(df.columns))"
   ]
  },
  {
   "cell_type": "code",
   "execution_count": 75,
   "metadata": {},
   "outputs": [
    {
     "name": "stdout",
     "output_type": "stream",
     "text": [
      "Select an specific column\n",
      "0                  Bulbasaur\n",
      "1                    Ivysaur\n",
      "2                   Venusaur\n",
      "3      VenusaurMega Venusaur\n",
      "4                 Charmander\n",
      "               ...          \n",
      "795                  Diancie\n",
      "796      DiancieMega Diancie\n",
      "797      HoopaHoopa Confined\n",
      "798       HoopaHoopa Unbound\n",
      "799                Volcanion\n",
      "Name: Name, Length: 800, dtype: object \n",
      " <class 'pandas.core.series.Series'>\n",
      "\n",
      "\n",
      "Due to df['Any column'] returns Series object I can use .tail() function.\n",
      "798    HoopaHoopa Unbound\n",
      "799             Volcanion\n",
      "Name: Name, dtype: object\n",
      "\n",
      "\n"
     ]
    }
   ],
   "source": [
    "print('Select an specific column')\n",
    "print(df['Name'], '\\n', type(df['Name']))\n",
    "print('\\n')\n",
    "\n",
    "# Due to df['Any column'] returns Series object I can use .tail() function.\n",
    "print(\"Due to df['Any column'] returns Series object I can use .tail() function.\")\n",
    "print(df['Name'].tail(2))\n",
    "print('\\n')"
   ]
  },
  {
   "cell_type": "code",
   "execution_count": 76,
   "id": "6ce8127a",
   "metadata": {},
   "outputs": [
    {
     "name": "stdout",
     "output_type": "stream",
     "text": [
      "Or use python list selector\n",
      "0    Bulbasaur\n",
      "1      Ivysaur\n",
      "Name: Name, dtype: object\n",
      "\n",
      "\n",
      "And use dot selector\n",
      "0    Bulbasaur\n",
      "1      Ivysaur\n",
      "Name: Name, dtype: object\n",
      "\n",
      "\n",
      "You can select several columns like this\n",
      "                      Name  HP   Type 1\n",
      "0                Bulbasaur  45    Grass\n",
      "1                  Ivysaur  60    Grass\n",
      "2                 Venusaur  80    Grass\n",
      "3    VenusaurMega Venusaur  80    Grass\n",
      "4               Charmander  39     Fire\n",
      "..                     ...  ..      ...\n",
      "795                Diancie  50     Rock\n",
      "796    DiancieMega Diancie  50     Rock\n",
      "797    HoopaHoopa Confined  80  Psychic\n",
      "798     HoopaHoopa Unbound  80  Psychic\n",
      "799              Volcanion  80     Fire\n",
      "\n",
      "[800 rows x 3 columns]\n"
     ]
    }
   ],
   "source": [
    "# Or use python list selector.\n",
    "print('Or use python list selector')\n",
    "print(df['Name'][0:2])\n",
    "print('\\n')\n",
    "\n",
    "# And use dot selector, to select a column.\n",
    "print('And use dot selector')\n",
    "print(df.Name[0:2])\n",
    "print('\\n')\n",
    "\n",
    "# You can select several columns like this.\n",
    "print('You can select several columns like this')\n",
    "print(df[['Name', 'HP', 'Type 1']])"
   ]
  },
  {
   "cell_type": "markdown",
   "id": "282a9296",
   "metadata": {},
   "source": [
    "##### If you want to read an specific row use **.iloc** function.\n",
    "- https://pandas.pydata.org/docs/reference/api/pandas.DataFrame.iloc.html"
   ]
  },
  {
   "cell_type": "code",
   "execution_count": 81,
   "id": "1cd6f177",
   "metadata": {},
   "outputs": [
    {
     "name": "stdout",
     "output_type": "stream",
     "text": [
      "#                     1\n",
      "Name          Bulbasaur\n",
      "Type 1            Grass\n",
      "Type 2           Poison\n",
      "HP                   45\n",
      "Attack               49\n",
      "Defense              49\n",
      "Sp. Atk              65\n",
      "Sp. Def              65\n",
      "Speed                45\n",
      "Generation            1\n",
      "Legendary         False\n",
      "Name: 0, dtype: object \n",
      " <class 'pandas.core.series.Series'>\n",
      "\n",
      "\n",
      "   #       Name Type 1  Type 2  HP  Attack  Defense  Sp. Atk  Sp. Def  Speed  \\\n",
      "0  1  Bulbasaur  Grass  Poison  45      49       49       65       65     45   \n",
      "1  2    Ivysaur  Grass  Poison  60      62       63       80       80     60   \n",
      "2  3   Venusaur  Grass  Poison  80      82       83      100      100     80   \n",
      "\n",
      "   Generation  Legendary  \n",
      "0           1      False  \n",
      "1           1      False  \n",
      "2           1      False  \n"
     ]
    }
   ],
   "source": [
    "# n.b. It returns a Series object\n",
    "print(df.iloc[0], '\\n', type(df.iloc[0]))\n",
    "print('\\n')\n",
    "# But here it returns a Dataframe.\n",
    "print(df.iloc[0:3])"
   ]
  },
  {
   "cell_type": "markdown",
   "id": "e4179e27",
   "metadata": {},
   "source": [
    "##### You can get an specific cell by several ways...\n",
    "- https://pandas.pydata.org/docs/reference/api/pandas.DataFrame.at.html#pandas.DataFrame.at"
   ]
  },
  {
   "cell_type": "code",
   "execution_count": 86,
   "id": "d7164664",
   "metadata": {},
   "outputs": [
    {
     "name": "stdout",
     "output_type": "stream",
     "text": [
      "60\n",
      "60\n"
     ]
    }
   ],
   "source": [
    "# It corresponds to row 1 column HP\n",
    "print(df.iloc[1, 4])\n",
    "print(df.at[1, 'HP'])"
   ]
  }
 ],
 "metadata": {
  "interpreter": {
   "hash": "aa72317a3b76ed2c7b57d0c669057f10e7acda2e823a8ff7e55329f00e95438a"
  },
  "kernelspec": {
   "display_name": "Python 3.9.5 64-bit",
   "name": "python3"
  },
  "language_info": {
   "codemirror_mode": {
    "name": "ipython",
    "version": 3
   },
   "file_extension": ".py",
   "mimetype": "text/x-python",
   "name": "python",
   "nbconvert_exporter": "python",
   "pygments_lexer": "ipython3",
   "version": "3.9.5"
  }
 },
 "nbformat": 4,
 "nbformat_minor": 5
}
