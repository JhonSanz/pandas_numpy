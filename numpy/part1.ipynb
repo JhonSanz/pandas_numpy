{
 "cells": [
  {
   "cell_type": "code",
   "execution_count": 43,
   "metadata": {},
   "outputs": [],
   "source": [
    "import numpy as np\n",
    "import math"
   ]
  },
  {
   "cell_type": "markdown",
   "metadata": {},
   "source": [
    "### Array"
   ]
  },
  {
   "cell_type": "code",
   "execution_count": 5,
   "metadata": {},
   "outputs": [
    {
     "name": "stdout",
     "output_type": "stream",
     "text": [
      "[1 2 3]\n",
      "1\n"
     ]
    }
   ],
   "source": [
    "# Aparently a normal array, but by this way you can get all the np array methods\n",
    "# like .ndim\n",
    "a = np.array([1, 2, 3])\n",
    "print(a)\n",
    "print(a.ndim)"
   ]
  },
  {
   "cell_type": "code",
   "execution_count": 8,
   "metadata": {},
   "outputs": [
    {
     "name": "stdout",
     "output_type": "stream",
     "text": [
      "[[1 2 3]\n",
      " [4 5 6]]\n",
      "(2, 3)\n"
     ]
    }
   ],
   "source": [
    "# Here we are creating a matrix from a list of lists\n",
    "b = np.array([[1, 2, 3], [4, 5, 6]])\n",
    "print(b)\n",
    "# And we get the shape, rows x columns\n",
    "print(b.shape)"
   ]
  },
  {
   "cell_type": "markdown",
   "metadata": {},
   "source": [
    "Useful features in numpy let you to create default structures like this"
   ]
  },
  {
   "cell_type": "code",
   "execution_count": 11,
   "metadata": {},
   "outputs": [
    {
     "name": "stdout",
     "output_type": "stream",
     "text": [
      "[[0. 0. 0.]\n",
      " [0. 0. 0.]\n",
      " [0. 0. 0.]]\n",
      "[[1. 1.]\n",
      " [1. 1.]]\n",
      "[[0.35974036 0.21066581 0.56051379]\n",
      " [0.0308183  0.32554144 0.15870098]]\n"
     ]
    }
   ],
   "source": [
    "zeros = np.zeros((3, 3))\n",
    "print(zeros)\n",
    "ones = np.ones((2, 2))\n",
    "print(ones)\n",
    "random_matrix = np.random.rand(2, 3)\n",
    "print(random_matrix)"
   ]
  },
  {
   "cell_type": "code",
   "execution_count": 12,
   "metadata": {},
   "outputs": [
    {
     "name": "stdout",
     "output_type": "stream",
     "text": [
      "[10 12 14 16 18 20 22 24 26 28 30 32 34 36 38 40 42 44 46 48]\n"
     ]
    }
   ],
   "source": [
    "# even numbers in this interval [10, 50)\n",
    "range_array = np.arange(10, 50, 2)\n",
    "print(range_array)"
   ]
  },
  {
   "cell_type": "code",
   "execution_count": 14,
   "metadata": {},
   "outputs": [
    {
     "name": "stdout",
     "output_type": "stream",
     "text": [
      "[0.         0.14285714 0.28571429 0.42857143 0.57142857 0.71428571\n",
      " 0.85714286 1.         1.14285714 1.28571429 1.42857143 1.57142857\n",
      " 1.71428571 1.85714286 2.        ] <class 'numpy.ndarray'>\n"
     ]
    }
   ],
   "source": [
    "# Generate 15 numbers from 0 to 2\n",
    "numbers = np.linspace(0, 2, 15)\n",
    "print(numbers, type(numbers))"
   ]
  },
  {
   "cell_type": "markdown",
   "metadata": {},
   "source": [
    "---"
   ]
  },
  {
   "cell_type": "markdown",
   "metadata": {},
   "source": [
    "### Array manipulation"
   ]
  },
  {
   "cell_type": "markdown",
   "metadata": {},
   "source": [
    "You can perform mathematical operations over arrays like addition, substraction, square etc... And you can also perform matrix operations like transpose, inverse, product etc."
   ]
  },
  {
   "cell_type": "code",
   "execution_count": 24,
   "metadata": {},
   "outputs": [
    {
     "name": "stdout",
     "output_type": "stream",
     "text": [
      "a + b = [11 22 33 44]\n",
      "a * b = [ 10  40  90 160]\n",
      "\n",
      "\n",
      "farenheit to celcius:\n",
      " [  0 -10  -5 -15   0] -> [-17.22222222 -22.77777778 -20.         -25.55555556 -17.22222222]\n"
     ]
    }
   ],
   "source": [
    "a = np.array([1, 2, 3, 4])\n",
    "b = np.array([10, 20, 30, 40])\n",
    "farenheit = np.array([0, -10, -5, -15, 0])\n",
    "\n",
    "print('a + b =', a + b)\n",
    "print('a * b =', a * b)\n",
    "print('\\n')\n",
    "\n",
    "celcius = (farenheit - 31) * (5/9)\n",
    "print('farenheit to celcius:\\n', farenheit, '->', celcius)"
   ]
  },
  {
   "cell_type": "code",
   "execution_count": 26,
   "metadata": {},
   "outputs": [
    {
     "data": {
      "text/plain": [
       "array([ True, False, False, False,  True])"
      ]
     },
     "execution_count": 26,
     "metadata": {},
     "output_type": "execute_result"
    }
   ],
   "source": [
    "# Boolean arrays. These can be generated with a condition applied over an array like this\n",
    "celcius > -20"
   ]
  },
  {
   "cell_type": "code",
   "execution_count": 27,
   "metadata": {},
   "outputs": [
    {
     "data": {
      "text/plain": [
       "array([False, False,  True, False, False])"
      ]
     },
     "execution_count": 27,
     "metadata": {},
     "output_type": "execute_result"
    }
   ],
   "source": [
    "# We can also combine operations and later check conditions\n",
    "celcius % 2 == 0"
   ]
  },
  {
   "cell_type": "markdown",
   "metadata": {},
   "source": [
    "### Matrix manipulation"
   ]
  },
  {
   "cell_type": "code",
   "execution_count": 30,
   "metadata": {},
   "outputs": [],
   "source": [
    "A = np.array([[1, 2], [7, 8]])\n",
    "B = np.array([[5, 7], [6, 3]])\n"
   ]
  },
  {
   "cell_type": "markdown",
   "metadata": {},
   "source": [
    "Important\n",
    "A*B is used like element by element function if you want to do matrix product use @ or .dot"
   ]
  },
  {
   "cell_type": "code",
   "execution_count": 35,
   "metadata": {},
   "outputs": [
    {
     "name": "stdout",
     "output_type": "stream",
     "text": [
      "Elements product\n",
      "[[ 5 14]\n",
      " [42 24]]\n",
      "\n",
      "Matrix product\n",
      "[[17 13]\n",
      " [83 73]]\n",
      "[[17 13]\n",
      " [83 73]]\n"
     ]
    }
   ],
   "source": [
    "print('Elements product')\n",
    "print(A*B)\n",
    "# Matrix product\n",
    "print('\\nMatrix product')\n",
    "print(A@B)\n",
    "print(A.dot(B))"
   ]
  },
  {
   "cell_type": "markdown",
   "metadata": {},
   "source": [
    "---"
   ]
  },
  {
   "cell_type": "markdown",
   "metadata": {},
   "source": [
    "Some aggregation functions"
   ]
  },
  {
   "cell_type": "code",
   "execution_count": 37,
   "metadata": {},
   "outputs": [
    {
     "name": "stdout",
     "output_type": "stream",
     "text": [
      "[[1 2 3 4]\n",
      " [5 6 7 8]]\n"
     ]
    }
   ],
   "source": [
    "array_agg = np.array([[1, 2, 3, 4], [5, 6, 7, 8]])\n",
    "print(array_agg)"
   ]
  },
  {
   "cell_type": "code",
   "execution_count": 38,
   "metadata": {},
   "outputs": [
    {
     "name": "stdout",
     "output_type": "stream",
     "text": [
      "36\n",
      "8\n",
      "1\n",
      "4.5\n"
     ]
    }
   ],
   "source": [
    "print(array_agg.sum())\n",
    "print(array_agg.max())\n",
    "print(array_agg.min())\n",
    "print(array_agg.mean())"
   ]
  },
  {
   "cell_type": "markdown",
   "metadata": {},
   "source": [
    "---"
   ]
  },
  {
   "cell_type": "markdown",
   "metadata": {},
   "source": [
    "For two dimentional array is pretty similiar and it comes with an example...\n",
    "\n",
    "The purpouse of a matrix depends on a particular context. For example an image is a matrix"
   ]
  },
  {
   "cell_type": "code",
   "execution_count": 40,
   "metadata": {},
   "outputs": [
    {
     "name": "stdout",
     "output_type": "stream",
     "text": [
      "[[ 0  1  2  3  4]\n",
      " [ 5  6  7  8  9]\n",
      " [10 11 12 13 14]]\n"
     ]
    }
   ],
   "source": [
    "# Reshape took the generated list by Arange and organized it into a 3x5 matrix\n",
    "numbers = np.arange(0, 15, 1).reshape(3, 5)\n",
    "print(numbers)"
   ]
  },
  {
   "cell_type": "code",
   "execution_count": 44,
   "metadata": {},
   "outputs": [
    {
     "data": {
      "image/png": "[encoded data removed]",
      "text/plain": [
       "<PIL.JpegImagePlugin.JpegImageFile image mode=L size=168x168 at 0x7F322F47E610>"
      ]
     },
     "metadata": {},
     "output_type": "display_data"
    }
   ],
   "source": [
    "from PIL import Image\n",
    "from IPython.display import display\n",
    "\n",
    "rat = Image.open('rat.jpg')\n",
    "display(rat)"
   ]
  },
  {
   "cell_type": "code",
   "execution_count": 47,
   "metadata": {},
   "outputs": [
    {
     "name": "stdout",
     "output_type": "stream",
     "text": [
      "(168, 168)\n"
     ]
    },
    {
     "data": {
      "text/plain": [
       "array([[75, 75, 75, ..., 99, 99, 99],\n",
       "       [75, 75, 75, ..., 99, 99, 99],\n",
       "       [75, 75, 75, ..., 99, 99, 99],\n",
       "       ...,\n",
       "       [61, 61, 61, ..., 78, 77, 77],\n",
       "       [61, 61, 61, ..., 78, 77, 77],\n",
       "       [61, 61, 61, ..., 78, 77, 77]], dtype=uint8)"
      ]
     },
     "execution_count": 47,
     "metadata": {},
     "output_type": "execute_result"
    }
   ],
   "source": [
    "rat_array = np.array(rat)\n",
    "print(rat_array.shape)\n",
    "rat_array\n",
    "\n",
    "# uint8 means unsigned int (positive integers) and 8 bits per byte\n",
    "# black = 0, white = 255"
   ]
  },
  {
   "cell_type": "code",
   "execution_count": 48,
   "metadata": {},
   "outputs": [
    {
     "data": {
      "text/plain": [
       "array([[255, 255, 255, ..., 255, 255, 255],\n",
       "       [255, 255, 255, ..., 255, 255, 255],\n",
       "       [255, 255, 255, ..., 255, 255, 255],\n",
       "       ...,\n",
       "       [255, 255, 255, ..., 255, 255, 255],\n",
       "       [255, 255, 255, ..., 255, 255, 255],\n",
       "       [255, 255, 255, ..., 255, 255, 255]])"
      ]
     },
     "execution_count": 48,
     "metadata": {},
     "output_type": "execute_result"
    }
   ],
   "source": [
    "# We are going to create an array with the same shape and filled with 255 values\n",
    "mask = np.full(rat_array.shape, 255)\n",
    "mask"
   ]
  },
  {
   "cell_type": "code",
   "execution_count": 51,
   "metadata": {},
   "outputs": [
    {
     "data": {
      "text/plain": [
       "array([[180, 180, 180, ..., 156, 156, 156],\n",
       "       [180, 180, 180, ..., 156, 156, 156],\n",
       "       [180, 180, 180, ..., 156, 156, 156],\n",
       "       ...,\n",
       "       [194, 194, 194, ..., 177, 178, 178],\n",
       "       [194, 194, 194, ..., 177, 178, 178],\n",
       "       [194, 194, 194, ..., 177, 178, 178]], dtype=uint8)"
      ]
     },
     "execution_count": 51,
     "metadata": {},
     "output_type": "execute_result"
    }
   ],
   "source": [
    "modified_array = rat_array - mask\n",
    "modified_array *= -1\n",
    "# Cast to a specified type\n",
    "modified_array = modified_array.astype(np.uint8)\n",
    "modified_array"
   ]
  },
  {
   "cell_type": "code",
   "execution_count": 52,
   "metadata": {},
   "outputs": [
    {
     "data": {
      "image/png": "[encoded data removed]",
      "text/plain": [
       "<PIL.Image.Image image mode=L size=168x168 at 0x7F31F8511D30>"
      ]
     },
     "metadata": {},
     "output_type": "display_data"
    }
   ],
   "source": [
    "display(Image.fromarray(modified_array))"
   ]
  }
 ],
 "metadata": {
  "interpreter": {
   "hash": "aa72317a3b76ed2c7b57d0c669057f10e7acda2e823a8ff7e55329f00e95438a"
  },
  "kernelspec": {
   "display_name": "Python 3.9.5 64-bit ('env': venv)",
   "language": "python",
   "name": "python3"
  },
  "language_info": {
   "codemirror_mode": {
    "name": "ipython",
    "version": 3
   },
   "file_extension": ".py",
   "mimetype": "text/x-python",
   "name": "python",
   "nbconvert_exporter": "python",
   "pygments_lexer": "ipython3",
   "version": "3.9.5"
  },
  "orig_nbformat": 4
 },
 "nbformat": 4,
 "nbformat_minor": 2
}
